{
  "nbformat": 4,
  "nbformat_minor": 0,
  "metadata": {
    "colab": {
      "provenance": [],
      "authorship_tag": "ABX9TyNpljNfOIY6h/eTvAcKcyJ1",
      "include_colab_link": true
    },
    "kernelspec": {
      "name": "python3",
      "display_name": "Python 3"
    },
    "language_info": {
      "name": "python"
    }
  },
  "cells": [
    {
      "cell_type": "markdown",
      "metadata": {
        "id": "view-in-github",
        "colab_type": "text"
      },
      "source": [
        "<a href=\"https://colab.research.google.com/github/Nikhil-kumar-001/python_program/blob/main/python_introduction.ipynb\" target=\"_parent\"><img src=\"https://colab.research.google.com/assets/colab-badge.svg\" alt=\"Open In Colab\"/></a>"
      ]
    },
    {
      "cell_type": "markdown",
      "source": [
        "# **OPERATORS**"
      ],
      "metadata": {
        "id": "qmPS1Ba4kgEA"
      }
    },
    {
      "cell_type": "markdown",
      "source": [
        "Operators:- Operators are used to perform operations on variables and values."
      ],
      "metadata": {
        "id": "I6YUAzSgP4c8"
      }
    },
    {
      "cell_type": "code",
      "source": [
        "a=5\n",
        "b=6\n",
        "print(a+b)\n",
        "\n",
        "#here (+) is a operator which is use to add the variables"
      ],
      "metadata": {
        "colab": {
          "base_uri": "https://localhost:8080/"
        },
        "id": "_6AdXvYdOH3A",
        "outputId": "fe773091-46fa-490a-efee-93ddfd4426d4"
      },
      "execution_count": null,
      "outputs": [
        {
          "output_type": "stream",
          "name": "stdout",
          "text": [
            "11\n"
          ]
        }
      ]
    },
    {
      "cell_type": "markdown",
      "source": [
        "# **TYPES OF OPERATORS**"
      ],
      "metadata": {
        "id": "hos7hpM7g2bc"
      }
    },
    {
      "cell_type": "markdown",
      "source": [
        "*   Arithemetix operators\n",
        "*   Assignment operators\n",
        "*   Comparision operators\n",
        "*   Logical operators\n",
        "*   Identity operators\n",
        "*   Membership operators\n",
        "*   Bitwise operators"
      ],
      "metadata": {
        "id": "iOEADrM2O-he"
      }
    },
    {
      "cell_type": "markdown",
      "source": [
        "# Types of operators define:-"
      ],
      "metadata": {
        "id": "FUaIjrJBhvPp"
      }
    },
    {
      "cell_type": "markdown",
      "source": [
        "\n",
        "\n",
        "1.   ARITHNETIC OPERATORS:-  Use to perform mathematical operations\n",
        "\n",
        "2.   ASSIGNMENT OPERATORS:-  Assignment operators are used to assign values to\n",
        "     variables (assignment operators mai code right to left run execute hot hai)\n",
        "        *   *sub part*:- Short assignment operator\n",
        "\n",
        "\n",
        "\n",
        "3.   COMPARITIVE OPERATORS:- Comparison operators are used to compare two       \n",
        "     values.\n",
        "\n",
        "4.   LOGICAL OPERATORS   :- Logical operators are used to combine conditional\n",
        "     statements.(AND , OR , NOT)\n",
        "\n",
        "5.   DENTITY OPERATORS:-   Identity operators are used to compare the objects,\n",
        "     not,if they are equal, but if they are actually the same object, with the same memory location. (IS , ISNOT).\n",
        "\n",
        "6.   MEMBERSHIP OPERATORS:- Membership operators are used to test if a sequence\n",
        "     is presented in an object.\n",
        "\n",
        "7.  BITWISE OPERATORS:-   Bitwise operators are used to compare (binary)\n",
        "     numbers:"
      ],
      "metadata": {
        "id": "XgJZtgdHPqle"
      }
    },
    {
      "cell_type": "markdown",
      "source": [
        "# **operators examples with codes**"
      ],
      "metadata": {
        "id": "4hlVS0wYpoA5"
      }
    },
    {
      "cell_type": "code",
      "source": [
        "#Assignment operators example:-\n",
        "\n",
        "x = 5\n",
        "x += 1\n",
        "print(x)"
      ],
      "metadata": {
        "colab": {
          "base_uri": "https://localhost:8080/"
        },
        "id": "F6MBM8l6mVM0",
        "outputId": "cfe7720b-8a6d-4591-f122-008a260944e0"
      },
      "execution_count": null,
      "outputs": [
        {
          "output_type": "stream",
          "name": "stdout",
          "text": [
            "6\n"
          ]
        }
      ]
    },
    {
      "cell_type": "code",
      "source": [
        "x+=1\n",
        "print(x)"
      ],
      "metadata": {
        "colab": {
          "base_uri": "https://localhost:8080/"
        },
        "id": "v83h1XqRnair",
        "outputId": "9e75d661-36ed-4096-dbb0-d5a3c3a0d898"
      },
      "execution_count": null,
      "outputs": [
        {
          "output_type": "stream",
          "name": "stdout",
          "text": [
            "10\n"
          ]
        }
      ]
    },
    {
      "cell_type": "code",
      "source": [
        "x=5\n",
        "x = x+1\n",
        "print(x)\n",
        "\n",
        "'''\n",
        "upr or neeche we get the same output but in upper case we use the assignment operator and in this code we\n",
        "simpaly write the code.\n",
        "\n",
        "'''\n"
      ],
      "metadata": {
        "colab": {
          "base_uri": "https://localhost:8080/",
          "height": 53
        },
        "id": "lRHLrMCImv8o",
        "outputId": "fb69af44-c842-49d8-e2a9-5f0ab3a5a911"
      },
      "execution_count": null,
      "outputs": [
        {
          "output_type": "stream",
          "name": "stdout",
          "text": [
            "6\n"
          ]
        },
        {
          "output_type": "execute_result",
          "data": {
            "text/plain": [
              "'\\nupr or neeche we get the same output but in upper case we use the assignment operator and in this code we \\nsimpaly write the code.\\n\\n'"
            ],
            "application/vnd.google.colaboratory.intrinsic+json": {
              "type": "string"
            }
          },
          "metadata": {},
          "execution_count": 7
        }
      ]
    },
    {
      "cell_type": "code",
      "source": [
        "#Example of comparision operator:-\n",
        "\n",
        "x = 5\n",
        "y = 4\n",
        "print (x>y)\n",
        "'''\n",
        "in this case python ne operators k according compare kiya ki x y se greater hai ya nai if yes it gave the value x\n",
        "\n",
        "'''\n",
        "\n",
        "print (x < y)\n",
        "print (x == y)            #each case of comparision operators is been used\n",
        "print (x >= y)\n",
        "print (x <= y)\n",
        "print (x != y)"
      ],
      "metadata": {
        "colab": {
          "base_uri": "https://localhost:8080/"
        },
        "id": "0IeaLfI7n8x3",
        "outputId": "988f78aa-9d0b-43bb-945e-bc410c21e690"
      },
      "execution_count": null,
      "outputs": [
        {
          "output_type": "stream",
          "name": "stdout",
          "text": [
            "True\n",
            "False\n",
            "False\n",
            "True\n",
            "False\n",
            "True\n"
          ]
        }
      ]
    },
    {
      "cell_type": "code",
      "source": [
        "#Logical operators Example\n",
        "\n",
        "'''\n",
        "first we need to understand about what is logical gates?\n",
        "logical gates are ( and, or, not)\n",
        "and:- Returns TRUE if both the statements are true\n",
        "or:- Return TRUE if one of the statements is true\n",
        "not(also called INVERTER):- Reserve the result, returns FALSE if the result is true\n",
        "AND + OR ko milake universal or exclusive gate banate hai.\n",
        "\n",
        "'''\n",
        "\n",
        "per = 59\n",
        "per>=60 and per<75\n",
        "per>=60 or  per<75\n",
        "\n",
        "\n",
        "\n"
      ],
      "metadata": {
        "colab": {
          "base_uri": "https://localhost:8080/"
        },
        "id": "8IiHzzE2p3c_",
        "outputId": "936d730a-f4ff-4596-c6ec-15d6368dac0a"
      },
      "execution_count": null,
      "outputs": [
        {
          "output_type": "execute_result",
          "data": {
            "text/plain": [
              "True"
            ]
          },
          "metadata": {},
          "execution_count": 19
        }
      ]
    },
    {
      "cell_type": "markdown",
      "source": [
        "CONTAINERS\n",
        "\n",
        "In Python, containers are data structures that hold or group multiple items (elements) together. These items can be of different types. Common Python containers include:\n",
        "\n",
        "\n",
        "\n",
        "*   List ----- [ ]\n",
        "\n",
        "*   Tuple ---- ( )\n",
        "\n",
        "*   Set ------ { }\n",
        "\n",
        "*   Dictionary-----{ } dictionary mai jo value hoti hai vo key value ke pair par hota hai\n",
        "                  "
      ],
      "metadata": {
        "id": "TO8whScqSJ_Z"
      }
    },
    {
      "cell_type": "code",
      "source": [
        "\n",
        "x = [\"apple\",\"banana\"]\n",
        "y = [\"apple\",\"banana\"]\n",
        "z = x\n",
        "\n",
        "print(x is z)\n",
        "print(x is y)\n",
        "print (x == y)\n",
        "\n",
        "'''\n",
        "Z is a referense variable jo X ke variable ko hold kar rha hai that means Z apne aap mai object nahi hai overall that means Z ke andar X ka\n",
        "address jaa rha hai na ki uski value\n",
        "'''"
      ],
      "metadata": {
        "colab": {
          "base_uri": "https://localhost:8080/"
        },
        "id": "L1-gfI7nUtBR",
        "outputId": "e4889bbe-4895-4590-ff24-1928edf4b615"
      },
      "execution_count": null,
      "outputs": [
        {
          "output_type": "stream",
          "name": "stdout",
          "text": [
            "True\n",
            "False\n",
            "True\n"
          ]
        }
      ]
    },
    {
      "cell_type": "code",
      "source": [
        "id(x), id(y), id(z)\n",
        "\n",
        "'''\n",
        "here we can see that the id of x and y is different but also we can see that the id of X and Z is same\n",
        "that simple means Z ki apni koi value nai hai Z X ki value ko borrow kar rha hai, whic also means Z is just cloning the X\n",
        "if we change the value of X then Z will also adapt that value automatically."
      ],
      "metadata": {
        "colab": {
          "base_uri": "https://localhost:8080/"
        },
        "id": "7AAE6GHzWP_U",
        "outputId": "dd869547-150c-4e04-df1a-91f3641a1d42"
      },
      "execution_count": null,
      "outputs": [
        {
          "output_type": "execute_result",
          "data": {
            "text/plain": [
              "(134088955528384, 134088955818368, 134088955528384)"
            ]
          },
          "metadata": {},
          "execution_count": 3
        }
      ]
    },
    {
      "cell_type": "markdown",
      "source": [
        "MEMBERSHIP OPERATOR:-"
      ],
      "metadata": {
        "id": "ZCamSqrMaP7v"
      }
    },
    {
      "cell_type": "markdown",
      "source": [
        "Membership operator checks the value or membership operators are used to test if a sequence is presented in an object"
      ],
      "metadata": {
        "id": "ATYTK4uiaY98"
      }
    },
    {
      "cell_type": "code",
      "source": [
        "x = [\"apple\",\"banana\"]\n",
        "\n",
        "print(\"banana\" not in x)\n",
        "\n"
      ],
      "metadata": {
        "colab": {
          "base_uri": "https://localhost:8080/"
        },
        "id": "DMoRCUJpbDbb",
        "outputId": "c0204f59-7146-4dd4-d3f3-310c1451a2ce"
      },
      "execution_count": null,
      "outputs": [
        {
          "output_type": "stream",
          "name": "stdout",
          "text": [
            "False\n"
          ]
        }
      ]
    },
    {
      "cell_type": "markdown",
      "source": [
        "# **BASIC PROGRAMMING**"
      ],
      "metadata": {
        "id": "lQiYyok3cIDG"
      }
    },
    {
      "cell_type": "code",
      "source": [
        "'''\n",
        "Ques-1 write a programe to calculate E=MC\n",
        "\n",
        "'''\n",
        "\n",
        "m = int(input(\"Enter the Mass\"))\n",
        "c = 299792458\n",
        "e = m*c*c\n",
        "print(\"E = \",e)\n",
        "\n",
        "'''\n",
        "Breakdown:\n",
        "print() Function:\n",
        "\n",
        "The print() function in Python outputs text or values to the console.\n",
        "String \"E = \":\n",
        "\n",
        "\"E = \" is a string that is displayed as-is. This acts as a label to make the output more readable, indicating what the value represents.\n",
        "Variable e:\n",
        "\n",
        "The variable e contains the computed value of\n",
        "𝐸=𝑚𝑐^2\n",
        "\n",
        " . This is the energy in joules, calculated earlier in the code.\n",
        "Comma ,:\n",
        "\n",
        "The comma in print(\"E = \", e) separates multiple items to be printed.\n",
        "It ensures that \"E = \" and the value of e are displayed with a space between them.\n",
        "\n",
        "'''"
      ],
      "metadata": {
        "colab": {
          "base_uri": "https://localhost:8080/"
        },
        "id": "5SfCmiMRcPK1",
        "outputId": "4bd8fff0-717c-482d-f9c4-8f5bd8c1f2fa"
      },
      "execution_count": null,
      "outputs": [
        {
          "output_type": "stream",
          "name": "stdout",
          "text": [
            "Enter the Mass200\n",
            "E =  17975103574736352800\n"
          ]
        }
      ]
    },
    {
      "cell_type": "code",
      "source": [
        "'''\n",
        "Ques:- Find the value of (x^2+5x+2)/(9x+2)\n",
        "\n",
        "'''\n",
        "x = int(input(\"Enter the value of X\"))\n",
        "y = (x*x+5*x+2)/(9*x+2)\n",
        "print(\"The output of the Expression:\", y)\n"
      ],
      "metadata": {
        "colab": {
          "base_uri": "https://localhost:8080/"
        },
        "id": "Aeb5pRlpeGIX",
        "outputId": "79d493e0-b83f-4234-e216-939a7d119c9b"
      },
      "execution_count": null,
      "outputs": [
        {
          "output_type": "stream",
          "name": "stdout",
          "text": [
            "Enter the value of X10\n",
            "The output of the Expression: 1.6521739130434783\n"
          ]
        }
      ]
    },
    {
      "cell_type": "code",
      "source": [
        "'''\n",
        "Ques- Simple interest calculation\n",
        "\n",
        "'''\n",
        "\n",
        "p = int(input(\"Enter the principle amount: \"))\n",
        "r = int(input(\"Enter the rate of interest: \"))\n",
        "t = int(input(\"Enter the time: \"))\n",
        "SI = (p*r*t)/100\n",
        "print(f\"the interest of {p} for {r}% ROI for {t} is {SI}\")  ###f means ye variables hai jo khud ki value ko print karenge na ki khud print ho jaenge.\n",
        "\n",
        "# agar f nai lagaenge to sari print values string mai convert ho jaengi or (f) lagane se string se hatke apni variable ki value mai aajaega\n",
        "#(f) means formated\n",
        "'''\n",
        "Why f is Needed:\n",
        "The f before the string tells Python that it is a formatted string literal.\n",
        "Inside the string, any {} is replaced by the value of the variable inside it.\n",
        "\n",
        "'''"
      ],
      "metadata": {
        "colab": {
          "base_uri": "https://localhost:8080/"
        },
        "id": "GArWIYdNgE2_",
        "outputId": "1aa788f9-5e8c-4826-bafb-a2ecf58dadd8"
      },
      "execution_count": null,
      "outputs": [
        {
          "output_type": "stream",
          "name": "stdout",
          "text": [
            "Enter the principle amount: 5000\n",
            "Enter the rate of interest: 7\n",
            "Enter the time: 3\n",
            "the interest of 5000 for 7% ROI for 3 is 1050.0\n"
          ]
        }
      ]
    },
    {
      "cell_type": "code",
      "source": [
        "# same above code witout using the (r)\n",
        "\n",
        "p = int(input(\"Enter the principle amount: \"))\n",
        "r = int(input(\"Enter the rate of Interest: \"))\n",
        "t = int(input(\"Enter the time: \"))\n",
        "SI = p*r*t/100\n",
        "print(\"the interest of {p} for {r}% ROI for {t} is {SI}\") #if we write f in this this become (formated string) without it its just a (string)\n",
        "\n",
        "'''\n",
        "is using curly braces {} to indicate placeholders, but it does not have an f-string prefix (f) to format and replace\n",
        " these placeholders with the actual values of the variables.\n",
        "\n",
        "What Happened:\n",
        "Without the f prefix, Python treats \"the interest of {p} for {r}% ROI for {t} is {SI}\" as a regular string and\n",
        "doesn't evaluate the placeholders {p}, {r}, {t}, or {SI}.\n",
        "Instead, it prints the string exactly as it is, including the curly braces.\n",
        "\n",
        "'''\n",
        "\n",
        "#(f) fuction use karne ki vajha se he ye p*r*t ki value print function mai uthake laa rha hai or formula k according\n",
        "#solve kar raha hai, but without (f) ke program as it is print krdega koi value nai dega\n",
        "\n"
      ],
      "metadata": {
        "colab": {
          "base_uri": "https://localhost:8080/"
        },
        "id": "Kq1tx8P4igxH",
        "outputId": "a3aa382b-a71e-4e8d-d8dc-3be58e402768"
      },
      "execution_count": null,
      "outputs": [
        {
          "output_type": "stream",
          "name": "stdout",
          "text": [
            "Enter the principle amount: 5000\n",
            "Enter the rate of Interest: 7\n",
            "Enter the time: 3\n",
            "the interest of {p} for {r}% ROI for {t} is {SI}\n"
          ]
        }
      ]
    },
    {
      "cell_type": "code",
      "source": [
        "# Calculate simple interest with different method\n",
        "\n",
        "principal = 3300\n",
        "rate = 5  # in percentage\n",
        "time = 7  # in years\n",
        "simple_interest = float(principal * rate * time) / 100\n",
        "print(\"The simple interest is:\", simple_interest)\n"
      ],
      "metadata": {
        "colab": {
          "base_uri": "https://localhost:8080/"
        },
        "id": "AZOTsX8uKL9_",
        "outputId": "fd3b9d4b-1030-41a3-ac17-f34bf1e3241f"
      },
      "execution_count": null,
      "outputs": [
        {
          "output_type": "stream",
          "name": "stdout",
          "text": [
            "The simple interest is: 1155.0\n"
          ]
        }
      ]
    },
    {
      "cell_type": "code",
      "source": [
        "# Calculating the area of the circle\n",
        "radius = int(input(\"Radius of the circle: \"))\n",
        "pi = float(input(\"pi value of the circle: \"))\n",
        "area_of_circle = pi * radius * radius\n",
        "\n",
        "print(\"Area of the circle:\", area_of_circle)"
      ],
      "metadata": {
        "colab": {
          "base_uri": "https://localhost:8080/"
        },
        "id": "dmZeEYQnMKrY",
        "outputId": "8bb01d5f-8fc7-4f45-a394-53f783810489"
      },
      "execution_count": null,
      "outputs": [
        {
          "output_type": "stream",
          "name": "stdout",
          "text": [
            "Radius of the circle: 55\n",
            "pi value of the circle: 33\n",
            "Area of the circle: 99825.0\n"
          ]
        }
      ]
    },
    {
      "cell_type": "code",
      "source": [
        "radius = int(input(\"Radius of the circle: \"))\n",
        "pi = int(input(\"Value of pi: \"))\n",
        "area_of_circle = pi * radius * radius\n",
        "\n",
        "print(\"Area of the circle:\", area_of_circle)"
      ],
      "metadata": {
        "id": "RkkvdZiXOc6d"
      },
      "execution_count": null,
      "outputs": []
    },
    {
      "cell_type": "code",
      "source": [
        "# Calculate the perimeter of a rectangle\n",
        "length = int(input(\"Lenght of the rectangle: \"))\n",
        "width =  int(input(\"Widht of the rectangle\"))\n",
        "perimeter = 2 * (length + width)\n",
        "print(\"The perimeter of the rectangle is:\", perimeter)"
      ],
      "metadata": {
        "id": "bnqWIc2JZGx8"
      },
      "execution_count": null,
      "outputs": []
    }
  ]
}